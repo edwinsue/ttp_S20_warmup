{
 "cells": [
  {
   "cell_type": "code",
   "execution_count": 3,
   "metadata": {},
   "outputs": [
    {
     "name": "stdout",
     "output_type": "stream",
     "text": [
      "15\n"
     ]
    }
   ],
   "source": [
    "#1 Use the len function to sum the total number of characters in all the words together in the following list\n",
    "\n",
    "still_words = ['1','22','333','4444','55555']\n",
    "char_count = 0\n",
    "\n",
    "for element in still_words:\n",
    "    char_count += len(element)\n",
    "\n",
    "print (char_count)"
   ]
  },
  {
   "cell_type": "code",
   "execution_count": 7,
   "metadata": {},
   "outputs": [
    {
     "name": "stdout",
     "output_type": "stream",
     "text": [
      "60355\n"
     ]
    }
   ],
   "source": [
    "# 2 Get the numeric values of the list items (eg. the value of '22' is 22), and print the sum.\n",
    "\n",
    "still_words = ['1','22','333','4444','55555']\n",
    "sum_elem = 0\n",
    "\n",
    "for element in still_words:\n",
    "    sum_elem += int(element)\n",
    "\n",
    "print (sum_elem)"
   ]
  },
  {
   "cell_type": "code",
   "execution_count": 8,
   "metadata": {},
   "outputs": [
    {
     "data": {
      "text/plain": [
       "['one', 'two', 'three', 'four', 'five']"
      ]
     },
     "execution_count": 8,
     "metadata": {},
     "output_type": "execute_result"
    }
   ],
   "source": [
    "# 3 - How do you fix the typo in this list, without rewriting the whole list?\n",
    "\n",
    "words = ['one','two','three','for','five']\n",
    "words[3] = 'four'\n",
    "words"
   ]
  }
 ],
 "metadata": {
  "kernelspec": {
   "display_name": "Python 3",
   "language": "python",
   "name": "python3"
  },
  "language_info": {
   "codemirror_mode": {
    "name": "ipython",
    "version": 3
   },
   "file_extension": ".py",
   "mimetype": "text/x-python",
   "name": "python",
   "nbconvert_exporter": "python",
   "pygments_lexer": "ipython3",
   "version": "3.7.3"
  }
 },
 "nbformat": 4,
 "nbformat_minor": 2
}
